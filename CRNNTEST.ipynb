{
 "cells": [
  {
   "cell_type": "code",
   "execution_count": null,
   "metadata": {
    "id": "dlzsERknTLat"
   },
   "outputs": [],
   "source": [
    "import os\n",
    "import cv2\n",
    "import numpy as np\n",
    "import string\n",
    "import time\n",
    "import pandas as pd\n",
    "import tensorflow as tf\n",
    "import matplotlib.pyplot as plt\n",
    "\n",
    "import tensorflow.keras.backend as K\n",
    "from tensorflow.keras.preprocessing.sequence import pad_sequences\n",
    "\n",
    "from tensorflow.keras.layers import Dense, Reshape, BatchNormalization, Input, Conv2D, MaxPool2D, Lambda, Bidirectional\n",
    "\n",
    "from tensorflow.compat.v1.keras.layers import CuDNNLSTM ,LSTM\n",
    "from tensorflow.keras.models import Model\n",
    "from tensorflow.keras.activations import relu, sigmoid, softmax\n",
    "\n",
    "from tensorflow.keras.utils import to_categorical, Sequence\n",
    "from tensorflow.keras.callbacks import ModelCheckpoint\n",
    "from tqdm import tqdm\n",
    "from collections import Counter\n",
    "\n",
    "from PIL import Image"
   ]
  },
  {
   "cell_type": "code",
   "execution_count": null,
   "metadata": {
    "colab": {
     "base_uri": "https://localhost:8080/"
    },
    "id": "lUGZMArTTdw2",
    "outputId": "c59496a9-99ea-4980-8b76-0358e80d4287"
   },
   "outputs": [
    {
     "name": "stdout",
     "output_type": "stream",
     "text": [
      "Mounted at /content/drive\n"
     ]
    }
   ],
   "source": [
    "from google.colab import drive\n",
    "drive.mount('/content/drive')"
   ]
  },
  {
   "cell_type": "code",
   "execution_count": null,
   "metadata": {
    "id": "cvumlQRoTwH1"
   },
   "outputs": [],
   "source": [
    "!wget https://github.com/rajesh-bhat/spark-ai-summit-2020-text-extraction/blob/master/mjsynth_sample.zip"
   ]
  },
  {
   "cell_type": "code",
   "execution_count": null,
   "metadata": {
    "id": "nftRk9N9T1cM"
   },
   "outputs": [],
   "source": [
    "!unzip -qq /content/drive/MyDrive/bach/mjsynth_sample.zip"
   ]
  },
  {
   "cell_type": "code",
   "execution_count": null,
   "metadata": {
    "id": "E5c8QeTdcCLt"
   },
   "outputs": [],
   "source": [
    "!unzip -qq /content/drive/MyDrive/bach/mjsnew2zip.zip"
   ]
  },
  {
   "cell_type": "code",
   "execution_count": null,
   "metadata": {
    "id": "UUgPYuUSeTtW"
   },
   "outputs": [],
   "source": [
    "!unzip -qq /content/drive/MyDrive/bach/mjslastzip.zip"
   ]
  },
  {
   "cell_type": "code",
   "execution_count": null,
   "metadata": {
    "id": "6R2DA2K-BH2w"
   },
   "outputs": [],
   "source": [
    "!unzip -qq /content/drive/MyDrive/bach/mjlast2zip.zip"
   ]
  },
  {
   "cell_type": "code",
   "execution_count": null,
   "metadata": {
    "id": "FM4UusZ0bqPI"
   },
   "outputs": [],
   "source": [
    "!unzip -qq /content/drive/MyDrive/bach/3mjsynth_sent.zip"
   ]
  },
  {
   "cell_type": "code",
   "execution_count": null,
   "metadata": {
    "id": "VGvS6yOPT9M9"
   },
   "outputs": [],
   "source": [
    "import os\n",
    "\n",
    "final_paths = []\n",
    "final_texts = []\n",
    "\n",
    "data_folders = [\"mjsynth_sample\"]\n",
    "\n",
    "for folder in data_folders:\n",
    "    data_folder = folder\n",
    "    for path in os.listdir(data_folder):\n",
    "        final_paths.append(data_folder + \"/\" + path)\n",
    "        final_texts.append(path.split(\"_\")[1])\n"
   ]
  },
  {
   "cell_type": "code",
   "execution_count": null,
   "metadata": {
    "colab": {
     "base_uri": "https://localhost:8080/"
    },
    "id": "4tEDrkVHVwgH",
    "outputId": "896fc07d-5072-438b-957a-e4d156bd7d1a"
   },
   "outputs": [
    {
     "data": {
      "text/plain": [
       "(['mjsynth_sample/112_TRAITS_80097.jpg',\n",
       "  'mjsynth_sample/1_RELENTS_64371.jpg',\n",
       "  'mjsynth_sample/417_CLAMORED_13877.jpg',\n",
       "  'mjsynth_sample/163_ORTHODOXY_53820.jpg',\n",
       "  'mjsynth_sample/181_despairingly_21050.jpg',\n",
       "  'mjsynth_sample/82_Lightships_44464.jpg',\n",
       "  'mjsynth_sample/310_DIETITIAN_21553.jpg',\n",
       "  'mjsynth_sample/46_Misguidedly_48917.jpg',\n",
       "  'mjsynth_sample/156_bloopers_8195.jpg',\n",
       "  'mjsynth_sample/371_Coriolis_17023.jpg'],\n",
       " ['TRAITS',\n",
       "  'RELENTS',\n",
       "  'CLAMORED',\n",
       "  'ORTHODOXY',\n",
       "  'despairingly',\n",
       "  'Lightships',\n",
       "  'DIETITIAN',\n",
       "  'Misguidedly',\n",
       "  'bloopers',\n",
       "  'Coriolis'])"
      ]
     },
     "execution_count": 5,
     "metadata": {},
     "output_type": "execute_result"
    }
   ],
   "source": [
    "final_paths[:10], final_texts[:10]"
   ]
  },
  {
   "cell_type": "code",
   "execution_count": null,
   "metadata": {
    "colab": {
     "base_uri": "https://localhost:8080/"
    },
    "id": "hZS12ppHVx8a",
    "outputId": "9ac2746c-e12f-4c73-914d-23392a14f104"
   },
   "outputs": [
    {
     "name": "stdout",
     "output_type": "stream",
     "text": [
      "[' ', '0', '1', '2', '3', '4', '5', '6', '7', '8', '9', 'A', 'B', 'C', 'D', 'E', 'F', 'G', 'H', 'I', 'J', 'K', 'L', 'M', 'N', 'O', 'P', 'Q', 'R', 'S', 'T', 'U', 'V', 'W', 'X', 'Y', 'Z', 'a', 'b', 'c', 'd', 'e', 'f', 'g', 'h', 'i', 'j', 'k', 'l', 'm', 'n', 'o', 'p', 'q', 'r', 's', 't', 'u', 'v', 'w', 'x', 'y', 'z']\n"
     ]
    }
   ],
   "source": [
    "\n",
    "vocab = set(\"\".join(map(str, final_texts)))\n",
    "print(sorted(vocab))"
   ]
  },
  {
   "cell_type": "code",
   "execution_count": null,
   "metadata": {
    "colab": {
     "base_uri": "https://localhost:8080/"
    },
    "id": "ECiEl_7uV1nW",
    "outputId": "5f95bb39-50a2-4f98-8e48-b3655b06c9e0"
   },
   "outputs": [
    {
     "data": {
      "text/plain": [
       "Counter({'T': 10070,\n",
       "         'R': 11125,\n",
       "         'A': 12188,\n",
       "         'I': 12698,\n",
       "         'S': 14094,\n",
       "         'E': 16731,\n",
       "         'L': 7997,\n",
       "         'N': 10222,\n",
       "         'C': 7202,\n",
       "         'M': 4747,\n",
       "         'O': 8783,\n",
       "         'D': 6379,\n",
       "         'H': 3898,\n",
       "         'X': 428,\n",
       "         'Y': 2290,\n",
       "         'd': 9730,\n",
       "         'e': 31940,\n",
       "         's': 23114,\n",
       "         'p': 6906,\n",
       "         'a': 21620,\n",
       "         'i': 24248,\n",
       "         'r': 19958,\n",
       "         'n': 20243,\n",
       "         'g': 8371,\n",
       "         'l': 14694,\n",
       "         'y': 4644,\n",
       "         'h': 6098,\n",
       "         't': 18283,\n",
       "         'u': 9213,\n",
       "         'b': 4718,\n",
       "         'o': 17332,\n",
       "         'c': 10014,\n",
       "         'P': 5178,\n",
       "         'k': 2761,\n",
       "         'G': 4768,\n",
       "         'm': 6933,\n",
       "         'f': 3274,\n",
       "         'B': 3874,\n",
       "         'V': 1787,\n",
       "         'F': 2799,\n",
       "         'w': 2238,\n",
       "         'v': 2718,\n",
       "         'Z': 696,\n",
       "         'U': 4990,\n",
       "         'K': 1611,\n",
       "         'W': 1806,\n",
       "         'q': 439,\n",
       "         'j': 453,\n",
       "         'x': 818,\n",
       "         'z': 1340,\n",
       "         'J': 518,\n",
       "         'Q': 350,\n",
       "         '2': 30,\n",
       "         '1': 56,\n",
       "         '0': 38,\n",
       "         '3': 21,\n",
       "         '9': 10,\n",
       "         '7': 15,\n",
       "         '5': 16,\n",
       "         '8': 17,\n",
       "         '4': 26,\n",
       "         '6': 16,\n",
       "         ' ': 7})"
      ]
     },
     "execution_count": 36,
     "metadata": {},
     "output_type": "execute_result"
    }
   ],
   "source": [
    "Counter(\"\".join(map(str, final_texts)))"
   ]
  },
  {
   "cell_type": "code",
   "execution_count": null,
   "metadata": {
    "id": "IkBOJVdzV44j"
   },
   "outputs": [],
   "source": [
    "char_list = sorted(vocab)\n",
    "\n",
    "def encode_to_labels(txt):\n",
    "    dig_lst = []\n",
    "\n",
    "    for index, char in enumerate(txt):\n",
    "        try:\n",
    "            dig_lst.append(char_list.index(char))\n",
    "        except:\n",
    "            print(char)\n",
    "\n",
    "    return dig_lst"
   ]
  },
  {
   "cell_type": "code",
   "execution_count": null,
   "metadata": {
    "colab": {
     "base_uri": "https://localhost:8080/"
    },
    "id": "X72C9R3DV-H-",
    "outputId": "99469e4d-21d9-4730-d67a-13c290cb8126"
   },
   "outputs": [
    {
     "data": {
      "text/plain": [
       "[18, 15, 22, 22, 25, 0, 49, 61]"
      ]
     },
     "execution_count": 38,
     "metadata": {},
     "output_type": "execute_result"
    }
   ],
   "source": [
    "encode_to_labels(\"HELLO my\")"
   ]
  },
  {
   "cell_type": "code",
   "execution_count": null,
   "metadata": {
    "colab": {
     "base_uri": "https://localhost:8080/"
    },
    "id": "D_PMGRd4V_cQ",
    "outputId": "c30ab646-7232-4386-e486-64eb611e479e"
   },
   "outputs": [
    {
     "data": {
      "text/plain": [
       "(47430, 5271)"
      ]
     },
     "execution_count": 39,
     "metadata": {},
     "output_type": "execute_result"
    }
   ],
   "source": [
    "from sklearn.model_selection import train_test_split\n",
    "\n",
    "train_paths, valid_paths, train_texts, valid_texts = train_test_split(final_paths, final_texts, test_size=0.1, random_state=42)\n",
    "\n",
    "\n",
    "train_final_paths = train_paths\n",
    "train_final_texts = train_texts\n",
    "\n",
    "valid_final_paths = valid_paths\n",
    "valid_final_texts = valid_texts\n",
    "\n",
    "\n",
    "len(train_final_paths), len(valid_final_paths)\n"
   ]
  },
  {
   "cell_type": "code",
   "execution_count": null,
   "metadata": {
    "id": "Kt7KjDUNWEY_"
   },
   "outputs": [],
   "source": [
    "max_label_len = max([len(str(text)) for text in final_texts])"
   ]
  },
  {
   "cell_type": "code",
   "execution_count": null,
   "metadata": {
    "colab": {
     "base_uri": "https://localhost:8080/"
    },
    "id": "Cchcwu6YWGZT",
    "outputId": "4123cf12-af69-433e-d485-886d8a8aa5a9"
   },
   "outputs": [
    {
     "data": {
      "text/plain": [
       "23"
      ]
     },
     "execution_count": 41,
     "metadata": {},
     "output_type": "execute_result"
    }
   ],
   "source": [
    "max_label_len"
   ]
  },
  {
   "cell_type": "code",
   "execution_count": null,
   "metadata": {
    "id": "U_0dzRLFWIdP"
   },
   "outputs": [],
   "source": [
    "\n",
    "class My_Generator(Sequence):\n",
    "\n",
    "    def __init__(self, image_filenames, labels, batch_size):\n",
    "        self.image_filenames, self.labels = image_filenames, labels\n",
    "        self.batch_size = batch_size\n",
    "\n",
    "    def __len__(self):\n",
    "        return int(np.ceil(len(self.image_filenames) / float(self.batch_size)))\n",
    "\n",
    "    def __getitem__(self, idx):\n",
    "\n",
    "        batch_paths = self.image_filenames[idx * self.batch_size:(idx + 1) * self.batch_size]\n",
    "        batch_texts = self.labels[idx * self.batch_size:(idx + 1) * self.batch_size]\n",
    "\n",
    "        images = []\n",
    "        training_txt = []\n",
    "        train_label_length = []\n",
    "        train_input_length = []\n",
    "\n",
    "        for im_path, text in zip(batch_paths, batch_texts):\n",
    "\n",
    "            try:\n",
    "                text = str(text).strip()\n",
    "                img = cv2.cvtColor(cv2.imread(im_path), cv2.COLOR_BGR2GRAY)\n",
    "\n",
    "        \n",
    "                h, w = img.shape\n",
    "\n",
    "         \n",
    "                if h < 32:\n",
    "                    add_zeros = np.ones((32-h, w)) * 255\n",
    "                    img = np.concatenate((img, add_zeros))\n",
    "                    h = 32\n",
    "\n",
    "                if w < 128:\n",
    "                    add_zeros = np.ones((h, 128-w)) * 255\n",
    "                    img = np.concatenate((img, add_zeros), axis=1)\n",
    "                    w = 128\n",
    "\n",
    "  \n",
    "                if w > 128 or h > 32:\n",
    "                    img = cv2.resize(img, (128, 32))\n",
    "\n",
    "                img = np.expand_dims(img , axis = 2)\n",
    "\n",
    "                img = img / 255.\n",
    "\n",
    "                images.append(img)\n",
    "                training_txt.append(encode_to_labels(text))\n",
    "                train_label_length.append(len(text))\n",
    "                train_input_length.append(31)\n",
    "            except:\n",
    "\n",
    "                pass\n",
    "\n",
    "        return [np.array(images),\n",
    "               pad_sequences(training_txt, maxlen=max_label_len, padding='post', value=len(char_list)),\n",
    "               np.array(train_input_length),\n",
    "               np.array(train_label_length)], np.zeros(len(images))"
   ]
  },
  {
   "cell_type": "code",
   "execution_count": null,
   "metadata": {
    "colab": {
     "base_uri": "https://localhost:8080/"
    },
    "id": "GcbLkDpfWPCu",
    "outputId": "325dec04-52e5-4864-ff5b-249a5d54468d"
   },
   "outputs": [
    {
     "data": {
      "text/plain": [
       "(['mjsynth_sample/187_rekindle_64299.jpg'], ['rekindle'])"
      ]
     },
     "execution_count": 43,
     "metadata": {},
     "output_type": "execute_result"
    }
   ],
   "source": [
    "train_final_paths[:1], train_final_texts[:1]"
   ]
  },
  {
   "cell_type": "code",
   "execution_count": null,
   "metadata": {
    "id": "jCsWC-sYWR4k"
   },
   "outputs": [],
   "source": [
    "batch_size = 256\n",
    "train_generator = My_Generator(train_final_paths, train_final_texts, batch_size)\n",
    "valid_generator = My_Generator(valid_final_paths, valid_final_texts, batch_size)"
   ]
  },
  {
   "cell_type": "code",
   "execution_count": null,
   "metadata": {
    "id": "xYCSZ85KWUx2"
   },
   "outputs": [],
   "source": [
    "\n",
    "inputs = Input(shape=(32, 128, 1))\n",
    "\n",
    "conv_1 = Conv2D(16, (3,3), activation = 'relu', padding='same')(inputs)\n",
    "pool_1 = MaxPool2D(pool_size=(2, 2), strides=2)(conv_1)\n",
    "\n",
    "conv_2 = Conv2D(32, (3,3), activation = 'relu', padding='same')(pool_1)\n",
    "pool_2 = MaxPool2D(pool_size=(2, 2), strides=2)(conv_2)\n",
    "\n",
    "conv_3 = Conv2D(64, (3,3), activation = 'relu', padding='same')(pool_2)\n",
    "conv_4 = Conv2D(64, (3,3), activation = 'relu', padding='same')(conv_3)\n",
    "pool_4 = MaxPool2D(pool_size=(2, 1))(conv_4)\n",
    "\n",
    "conv_5 = Conv2D(64, (3,3), activation = 'relu', padding='same')(pool_4)\n",
    "\n",
    "batch_norm_5 = BatchNormalization()(conv_5)\n",
    "\n",
    "conv_6 = Conv2D(64, (3,3), activation = 'relu', padding='same')(batch_norm_5)\n",
    "batch_norm_6 = BatchNormalization()(conv_6)\n",
    "pool_6 = MaxPool2D(pool_size=(2, 1))(batch_norm_6)\n",
    "\n",
    "conv_7 = Conv2D(64, (2,2), activation = 'relu')(pool_6)\n",
    "\n",
    "squeezed = Lambda(lambda x: K.squeeze(x, 1))(conv_7)\n",
    "\n",
    "blstm_1 = Bidirectional(CuDNNLSTM(128, return_sequences=True))(squeezed)\n",
    "blstm_2 = Bidirectional(CuDNNLSTM(128, return_sequences=True))(blstm_1)\n",
    "\n",
    "outputs = Dense(len(char_list) + 1, activation = 'softmax')(blstm_2)\n",
    "\n",
    "act_model = Model(inputs, outputs)"
   ]
  },
  {
   "cell_type": "code",
   "execution_count": null,
   "metadata": {
    "id": "DB-xiAxJWgD4"
   },
   "outputs": [],
   "source": [
    "labels = Input(name='the_labels', shape=[max_label_len], dtype='float32')\n",
    "input_length = Input(name='input_length', shape=[1], dtype='int64')\n",
    "label_length = Input(name='label_length', shape=[1], dtype='int64')\n",
    "\n",
    "def ctc_lambda_func(args):\n",
    "    y_pred, labels, input_length, label_length = args\n",
    "    return K.ctc_batch_cost(labels, y_pred, input_length, label_length)\n",
    "\n",
    "loss_out = Lambda(ctc_lambda_func,\n",
    "                  output_shape=(1,),\n",
    "                  name='ctc')([outputs, labels, input_length, label_length])\n",
    "\n",
    "model = Model(inputs=[inputs, labels, input_length, label_length], outputs=loss_out)"
   ]
  },
  {
   "cell_type": "code",
   "execution_count": null,
   "metadata": {
    "id": "uEi3cxoKWkdd"
   },
   "outputs": [],
   "source": [
    "file_path = \"/content/drive/MyDrive/bach/260.h5\"\n",
    "\n",
    "model.compile(loss={'ctc': lambda y_true, y_pred: y_pred}, optimizer='adam', metrics=['accuracy'])\n",
    "\n",
    "checkpoint = ModelCheckpoint(filepath=file_path,\n",
    "                             monitor='val_loss',\n",
    "                             verbose=1,\n",
    "                             save_best_only=True,\n",
    "                             mode='min')\n",
    "\n",
    "callbacks_list = [checkpoint]"
   ]
  },
  {
   "cell_type": "code",
   "execution_count": null,
   "metadata": {
    "colab": {
     "base_uri": "https://localhost:8080/"
    },
    "id": "QYzyCQxSWph9",
    "outputId": "cbaeb83c-7735-4dfa-e828-652ef5b3e243"
   },
   "outputs": [
    {
     "name": "stdout",
     "output_type": "stream",
     "text": [
      "Epoch 1/20\n",
      "185/185 [==============================] - ETA: 0s - loss: 31.6605 - accuracy: 0.0000e+00\n",
      "Epoch 1: val_loss improved from inf to 34.26444, saving model to /content/drive/MyDrive/bach/260.h5\n"
     ]
    },
    {
     "name": "stderr",
     "output_type": "stream",
     "text": [
      "/usr/local/lib/python3.10/dist-packages/keras/src/engine/training.py:3103: UserWarning: You are saving your model as an HDF5 file via `model.save()`. This file format is considered legacy. We recommend using instead the native Keras format, e.g. `model.save('my_model.keras')`.\n",
      "  saving_api.save_model(\n"
     ]
    },
    {
     "name": "stdout",
     "output_type": "stream",
     "text": [
      "\b\b\b\b\b\b\b\b\b\b\b\b\b\b\b\b\b\b\b\b\b\b\b\b\b\b\b\b\b\b\b\b\b\b\b\b\b\b\b\b\b\b\b\b\b\b\b\b\b\b\b\b\b\b\b\b\b\b\b\b\b\b\b\b\b\b\b\b\b\b\b\b\b\b\b\b\b\b\b\b\b\b\b\b\b\b\b\b\b\r185/185 [==============================] - 93s 279ms/step - loss: 31.6605 - accuracy: 0.0000e+00 - val_loss: 34.2644 - val_accuracy: 0.0000e+00\n",
      "Epoch 2/20\n",
      "185/185 [==============================] - ETA: 0s - loss: 28.2685 - accuracy: 0.0000e+00\n",
      "Epoch 2: val_loss improved from 34.26444 to 29.01431, saving model to /content/drive/MyDrive/bach/260.h5\n",
      "185/185 [==============================] - 50s 272ms/step - loss: 28.2685 - accuracy: 0.0000e+00 - val_loss: 29.0143 - val_accuracy: 0.0000e+00\n",
      "Epoch 3/20\n",
      "185/185 [==============================] - ETA: 0s - loss: 25.8427 - accuracy: 0.0000e+00\n",
      "Epoch 3: val_loss improved from 29.01431 to 24.20931, saving model to /content/drive/MyDrive/bach/260.h5\n",
      "185/185 [==============================] - 49s 266ms/step - loss: 25.8427 - accuracy: 0.0000e+00 - val_loss: 24.2093 - val_accuracy: 0.0000e+00\n",
      "Epoch 4/20\n",
      "185/185 [==============================] - ETA: 0s - loss: 20.2374 - accuracy: 0.0000e+00\n",
      "Epoch 4: val_loss improved from 24.20931 to 15.89579, saving model to /content/drive/MyDrive/bach/260.h5\n",
      "185/185 [==============================] - 48s 259ms/step - loss: 20.2374 - accuracy: 0.0000e+00 - val_loss: 15.8958 - val_accuracy: 0.0000e+00\n",
      "Epoch 5/20\n",
      "185/185 [==============================] - ETA: 0s - loss: 11.6981 - accuracy: 0.0016\n",
      "Epoch 5: val_loss improved from 15.89579 to 9.78711, saving model to /content/drive/MyDrive/bach/260.h5\n",
      "185/185 [==============================] - 48s 257ms/step - loss: 11.6981 - accuracy: 0.0016 - val_loss: 9.7871 - val_accuracy: 0.0066\n",
      "Epoch 6/20\n",
      "185/185 [==============================] - ETA: 0s - loss: 8.3442 - accuracy: 0.0371\n",
      "Epoch 6: val_loss improved from 9.78711 to 7.83968, saving model to /content/drive/MyDrive/bach/260.h5\n",
      "185/185 [==============================] - 49s 262ms/step - loss: 8.3442 - accuracy: 0.0371 - val_loss: 7.8397 - val_accuracy: 0.0715\n",
      "Epoch 7/20\n",
      "185/185 [==============================] - ETA: 0s - loss: 6.8401 - accuracy: 0.1143\n",
      "Epoch 7: val_loss improved from 7.83968 to 6.56988, saving model to /content/drive/MyDrive/bach/260.h5\n",
      "185/185 [==============================] - 46s 251ms/step - loss: 6.8401 - accuracy: 0.1143 - val_loss: 6.5699 - val_accuracy: 0.1463\n",
      "Epoch 8/20\n",
      "185/185 [==============================] - ETA: 0s - loss: 5.9392 - accuracy: 0.1877\n",
      "Epoch 8: val_loss improved from 6.56988 to 6.54368, saving model to /content/drive/MyDrive/bach/260.h5\n",
      "185/185 [==============================] - 47s 255ms/step - loss: 5.9392 - accuracy: 0.1877 - val_loss: 6.5437 - val_accuracy: 0.2008\n",
      "Epoch 9/20\n",
      "185/185 [==============================] - ETA: 0s - loss: 5.3509 - accuracy: 0.2446\n",
      "Epoch 9: val_loss improved from 6.54368 to 5.69760, saving model to /content/drive/MyDrive/bach/260.h5\n",
      "185/185 [==============================] - 47s 252ms/step - loss: 5.3509 - accuracy: 0.2446 - val_loss: 5.6976 - val_accuracy: 0.2393\n",
      "Epoch 10/20\n",
      "185/185 [==============================] - ETA: 0s - loss: 4.9008 - accuracy: 0.2885\n",
      "Epoch 10: val_loss improved from 5.69760 to 5.42454, saving model to /content/drive/MyDrive/bach/260.h5\n",
      "185/185 [==============================] - 46s 251ms/step - loss: 4.9008 - accuracy: 0.2885 - val_loss: 5.4245 - val_accuracy: 0.2838\n",
      "Epoch 11/20\n",
      "185/185 [==============================] - ETA: 0s - loss: 4.5780 - accuracy: 0.3258\n",
      "Epoch 11: val_loss improved from 5.42454 to 5.39405, saving model to /content/drive/MyDrive/bach/260.h5\n",
      "185/185 [==============================] - 48s 260ms/step - loss: 4.5780 - accuracy: 0.3258 - val_loss: 5.3941 - val_accuracy: 0.3111\n",
      "Epoch 12/20\n",
      "185/185 [==============================] - ETA: 0s - loss: 4.2425 - accuracy: 0.3622\n",
      "Epoch 12: val_loss improved from 5.39405 to 5.12224, saving model to /content/drive/MyDrive/bach/260.h5\n",
      "185/185 [==============================] - 47s 254ms/step - loss: 4.2425 - accuracy: 0.3622 - val_loss: 5.1222 - val_accuracy: 0.3242\n",
      "Epoch 13/20\n",
      "185/185 [==============================] - ETA: 0s - loss: 3.9474 - accuracy: 0.3923\n",
      "Epoch 13: val_loss improved from 5.12224 to 5.00488, saving model to /content/drive/MyDrive/bach/260.h5\n",
      "185/185 [==============================] - 46s 250ms/step - loss: 3.9474 - accuracy: 0.3923 - val_loss: 5.0049 - val_accuracy: 0.3818\n",
      "Epoch 14/20\n",
      "185/185 [==============================] - ETA: 0s - loss: 3.7341 - accuracy: 0.4160\n",
      "Epoch 14: val_loss improved from 5.00488 to 4.96195, saving model to /content/drive/MyDrive/bach/260.h5\n",
      "185/185 [==============================] - 48s 256ms/step - loss: 3.7341 - accuracy: 0.4160 - val_loss: 4.9619 - val_accuracy: 0.4070\n",
      "Epoch 15/20\n",
      "185/185 [==============================] - ETA: 0s - loss: 3.5563 - accuracy: 0.4369\n",
      "Epoch 15: val_loss did not improve from 4.96195\n",
      "185/185 [==============================] - 46s 247ms/step - loss: 3.5563 - accuracy: 0.4369 - val_loss: 5.0144 - val_accuracy: 0.3814\n",
      "Epoch 16/20\n",
      "185/185 [==============================] - ETA: 0s - loss: 3.3471 - accuracy: 0.4596\n",
      "Epoch 16: val_loss improved from 4.96195 to 4.86108, saving model to /content/drive/MyDrive/bach/260.h5\n",
      "185/185 [==============================] - 47s 251ms/step - loss: 3.3471 - accuracy: 0.4596 - val_loss: 4.8611 - val_accuracy: 0.4129\n",
      "Epoch 17/20\n",
      "185/185 [==============================] - ETA: 0s - loss: 3.2204 - accuracy: 0.4789\n",
      "Epoch 17: val_loss did not improve from 4.86108\n",
      "185/185 [==============================] - 48s 257ms/step - loss: 3.2204 - accuracy: 0.4789 - val_loss: 5.1632 - val_accuracy: 0.3896\n",
      "Epoch 18/20\n",
      "185/185 [==============================] - ETA: 0s - loss: 2.9996 - accuracy: 0.4979\n",
      "Epoch 18: val_loss did not improve from 4.86108\n",
      "185/185 [==============================] - 46s 246ms/step - loss: 2.9996 - accuracy: 0.4979 - val_loss: 5.0713 - val_accuracy: 0.4344\n",
      "Epoch 19/20\n",
      "185/185 [==============================] - ETA: 0s - loss: 2.8636 - accuracy: 0.5130\n",
      "Epoch 19: val_loss did not improve from 4.86108\n",
      "185/185 [==============================] - 47s 252ms/step - loss: 2.8636 - accuracy: 0.5130 - val_loss: 4.8736 - val_accuracy: 0.4549\n",
      "Epoch 20/20\n",
      "185/185 [==============================] - ETA: 0s - loss: 2.7919 - accuracy: 0.5239\n",
      "Epoch 20: val_loss did not improve from 4.86108\n",
      "185/185 [==============================] - 47s 252ms/step - loss: 2.7919 - accuracy: 0.5239 - val_loss: 4.9838 - val_accuracy: 0.4270\n"
     ]
    }
   ],
   "source": [
    "epochs = 20\n",
    "\n",
    "history = model.fit(train_generator,\n",
    "                    epochs=epochs,\n",
    "                    steps_per_epoch=len(train_final_paths) // batch_size,\n",
    "                    verbose=1,\n",
    "                    validation_data=valid_generator,\n",
    "                    validation_steps=len(valid_final_paths) // batch_size,\n",
    "                    callbacks=callbacks_list,\n",
    "                    shuffle=True)"
   ]
  },
  {
   "cell_type": "code",
   "execution_count": null,
   "metadata": {
    "colab": {
     "base_uri": "https://localhost:8080/",
     "height": 486
    },
    "id": "RwlT8TrDVJZk",
    "outputId": "82c413da-cfc4-4f63-a7c9-e954bf5a79b0"
   },
   "outputs": [
    {
     "data": {
      "image/png": "[encoded data removed]",
      "text/plain": [
       "<Figure size 640x480 with 2 Axes>"
      ]
     },
     "metadata": {},
     "output_type": "display_data"
    }
   ],
   "source": [
    "\n",
    "plt.subplot(2, 1, 1)\n",
    "plt.plot(history.history['loss'])\n",
    "plt.plot(history.history['val_loss']) \n",
    "plt.title('Model Loss')\n",
    "plt.ylabel('Loss')\n",
    "plt.xlabel('Epoch')\n",
    "plt.legend(['Train', 'Validation'], loc='upper right')\n",
    "\n",
    "\n",
    "plt.subplot(2, 1, 2)\n",
    "plt.plot(history.history['accuracy'])\n",
    "plt.plot(history.history['val_accuracy']) \n",
    "plt.title('Model Accuracy')\n",
    "plt.ylabel('Accuracy')\n",
    "plt.xlabel('Epoch')\n",
    "plt.legend(['Train', 'Validation'], loc='lower right')\n",
    "\n",
    "plt.tight_layout()\n",
    "plt.show()\n"
   ]
  },
  {
   "cell_type": "code",
   "execution_count": null,
   "metadata": {
    "colab": {
     "base_uri": "https://localhost:8080/"
    },
    "id": "FOcfQf-BgUKU",
    "outputId": "2aa97c88-7f5d-4d60-f32f-8a3ff5c53b7a"
   },
   "outputs": [
    {
     "name": "stderr",
     "output_type": "stream",
     "text": [
      "WARNING:tensorflow:Compiled the loaded model, but the compiled metrics have yet to be built. `model.compile_metrics` will be empty until you train or evaluate the model.\n"
     ]
    }
   ],
   "source": [
    "# Save the trained model\n",
    "act_model.save('/content/drive/MyDrive/bach/9010real.h5')\n"
   ]
  },
  {
   "cell_type": "code",
   "execution_count": null,
   "metadata": {
    "id": "iEBks6MJbUKm"
   },
   "outputs": [],
   "source": [
    "def pre_process_image(path):\n",
    "\n",
    "    img = cv2.cvtColor(cv2.imread(path), cv2.COLOR_BGR2GRAY)\n",
    "  \n",
    "    h, w = img.shape\n",
    "\n",
    "  \n",
    "    if h < 32:\n",
    "        add_zeros = np.ones((32-h, w)) * 255\n",
    "        img = np.concatenate((img, add_zeros))\n",
    "        h = 32\n",
    "\n",
    "    if w < 128:\n",
    "        add_zeros = np.ones((h, 128-w)) * 255\n",
    "        img = np.concatenate((img, add_zeros), axis=1)\n",
    "        w = 128\n",
    "\n",
    "    if w > 128 or h > 32:\n",
    "        img = cv2.resize(img, (128, 32))\n",
    "\n",
    "\n",
    "    img = np.expand_dims(img , axis = 2)\n",
    "\n",
    "    img = img / 255.\n",
    "\n",
    "    return img"
   ]
  },
  {
   "cell_type": "code",
   "execution_count": null,
   "metadata": {
    "id": "IM8BK0Zlbg-7"
   },
   "outputs": [],
   "source": [
    "act_model.load_weights('/content/drive/MyDrive/bach/260.h5')"
   ]
  },
  {
   "cell_type": "code",
   "execution_count": null,
   "metadata": {
    "id": "JRAYnXaMblAW"
   },
   "outputs": [],
   "source": [
    "def predict_output(img):\n",
    "\n",
    "    prediction = act_model.predict(np.array([img]))\n",
    "\n",
    "\n",
    "\n",
    "    out = K.get_value(K.ctc_decode(prediction,\n",
    "                                   input_length=np.ones(prediction.shape[0]) * prediction.shape[1],\n",
    "                                   greedy=True)[0][0])\n",
    "\n",
    "    for x in out:\n",
    "\n",
    "        print(\"predicted text = \", end = '')\n",
    "\n",
    "        for p in x:\n",
    "\n",
    "            if int(p) != -1:\n",
    "                print(char_list[int(p)], end = '')\n",
    "\n",
    "        print('\\n')"
   ]
  },
  {
   "cell_type": "code",
   "execution_count": null,
   "metadata": {
    "colab": {
     "base_uri": "https://localhost:8080/",
     "height": 633
    },
    "id": "MPQQq0bOFHcP",
    "outputId": "4b10933a-0a63-49fd-e520-097cdcb38415"
   },
   "outputs": [
    {
     "data": {
      "image/png": "[encoded data removed]",
      "text/plain": [
       "<PIL.JpegImagePlugin.JpegImageFile image mode=RGB size=89x31>"
      ]
     },
     "metadata": {},
     "output_type": "display_data"
    },
    {
     "name": "stdout",
     "output_type": "stream",
     "text": [
      "\n",
      "\n",
      "1/1 [==============================] - 1s 961ms/step\n",
      "predicted text = antbia\n",
      "\n"
     ]
    },
    {
     "data": {
      "image/png": "[encoded data removed]",
      "text/plain": [
       "<PIL.JpegImagePlugin.JpegImageFile image mode=RGB size=115x31>"
      ]
     },
     "metadata": {},
     "output_type": "display_data"
    },
    {
     "name": "stdout",
     "output_type": "stream",
     "text": [
      "\n",
      "\n",
      "1/1 [==============================] - 0s 18ms/step\n",
      "predicted text = Militarists\n",
      "\n"
     ]
    },
    {
     "data": {
      "image/png": "[encoded data removed]",
      "text/plain": [
       "<PIL.JpegImagePlugin.JpegImageFile image mode=RGB size=139x31>"
      ]
     },
     "metadata": {},
     "output_type": "display_data"
    },
    {
     "name": "stdout",
     "output_type": "stream",
     "text": [
      "\n",
      "\n",
      "1/1 [==============================] - 0s 19ms/step\n",
      "predicted text = airlines\n",
      "\n"
     ]
    },
    {
     "data": {
      "image/png": "[encoded data removed]",
      "text/plain": [
       "<PIL.JpegImagePlugin.JpegImageFile image mode=RGB size=108x31>"
      ]
     },
     "metadata": {},
     "output_type": "display_data"
    },
    {
     "name": "stdout",
     "output_type": "stream",
     "text": [
      "\n",
      "\n",
      "1/1 [==============================] - 0s 19ms/step\n",
      "predicted text = DOMICILEd\n",
      "\n"
     ]
    },
    {
     "data": {
      "image/png": "[encoded data removed]",
      "text/plain": [
       "<PIL.JpegImagePlugin.JpegImageFile image mode=RGB size=85x31>"
      ]
     },
     "metadata": {},
     "output_type": "display_data"
    },
    {
     "name": "stdout",
     "output_type": "stream",
     "text": [
      "\n",
      "\n",
      "1/1 [==============================] - 0s 18ms/step\n",
      "predicted text = gloomily\n",
      "\n"
     ]
    }
   ],
   "source": [
    "from IPython.display import display\n",
    "from random import randrange\n",
    "\n",
    "for i in range(5):\n",
    "    index = randrange(len(valid_final_paths))\n",
    "    im = Image.open(valid_final_paths[index])\n",
    "    display(im)\n",
    "\n",
    "    print(\"\\n\")\n",
    "\n",
    "    test_img = pre_process_image(valid_final_paths[index])\n",
    "    predict_output(test_img)"
   ]
  },
  {
   "cell_type": "code",
   "execution_count": null,
   "metadata": {
    "colab": {
     "base_uri": "https://localhost:8080/"
    },
    "id": "pq5ApzFz3Tb4",
    "outputId": "895fc9ad-d62a-4234-aadb-e73d9e229cb9"
   },
   "outputs": [
    {
     "name": "stdout",
     "output_type": "stream",
     "text": [
      "1/1 [==============================] - 0s 67ms/step\n",
      "predicted text = Tamhohaned\n",
      "\n"
     ]
    }
   ],
   "source": [
    "from IPython.display import display\n",
    "from random import randrange\n",
    "test_img = pre_process_image('/content/502_I am Mohamed_85113.png')\n",
    "predict_output(test_img)"
   ]
  },
  {
   "cell_type": "code",
   "execution_count": null,
   "metadata": {
    "id": "0gxsQ0nJQkz6"
   },
   "outputs": [],
   "source": [
    "from IPython.display import display, Javascript\n",
    "from google.colab.output import eval_js\n",
    "from base64 import b64decode\n",
    "\n",
    "def take_photo(filename='photo.jpg', quality=0.8):\n",
    "  js = Javascript('''\n",
    "    async function takePhoto(quality) {\n",
    "      const div = document.createElement('div');\n",
    "      const capture = document.createElement('button');\n",
    "      capture.textContent = 'Capture';\n",
    "      div.appendChild(capture);\n",
    "\n",
    "      const video = document.createElement('video');\n",
    "      video.style.display = 'block';\n",
    "      const stream = await navigator.mediaDevices.getUserMedia({video: true});\n",
    "\n",
    "      document.body.appendChild(div);\n",
    "      div.appendChild(video);\n",
    "      video.srcObject = stream;\n",
    "      await video.play();\n",
    "\n",
    "      // Resize the output to fit the video element.\n",
    "      google.colab.output.setIframeHeight(document.documentElement.scrollHeight, true);\n",
    "\n",
    "      // Wait for Capture to be clicked.\n",
    "      await new Promise((resolve) => capture.onclick = resolve);\n",
    "\n",
    "      const canvas = document.createElement('canvas');\n",
    "      canvas.width = video.videoWidth;\n",
    "      canvas.height = video.videoHeight;\n",
    "      canvas.getContext('2d').drawImage(video, 0, 0);\n",
    "      stream.getVideoTracks()[0].stop();\n",
    "      div.remove();\n",
    "      return canvas.toDataURL('image/jpeg', quality);\n",
    "    }\n",
    "    ''')\n",
    "  display(js)\n",
    "  data = eval_js('takePhoto({})'.format(quality))\n",
    "  binary = b64decode(data.split(',')[1])\n",
    "  with open(filename, 'wb') as f:\n",
    "    f.write(binary)\n",
    "  return filename"
   ]
  },
  {
   "cell_type": "code",
   "execution_count": null,
   "metadata": {
    "colab": {
     "base_uri": "https://localhost:8080/",
     "height": 566
    },
    "id": "ad2Xh3VctnhL",
    "outputId": "7d1c952c-d7c0-4d08-8bc4-f49be60363b0"
   },
   "outputs": [
    {
     "data": {
      "application/javascript": "\n    async function takePhoto(quality) {\n      const div = document.createElement('div');\n      const capture = document.createElement('button');\n      capture.textContent = 'Capture';\n      div.appendChild(capture);\n\n      const video = document.createElement('video');\n      video.style.display = 'block';\n      const stream = await navigator.mediaDevices.getUserMedia({video: true});\n\n      document.body.appendChild(div);\n      div.appendChild(video);\n      video.srcObject = stream;\n      await video.play();\n\n      // Resize the output to fit the video element.\n      google.colab.output.setIframeHeight(document.documentElement.scrollHeight, true);\n\n      // Wait for Capture to be clicked.\n      await new Promise((resolve) => capture.onclick = resolve);\n\n      const canvas = document.createElement('canvas');\n      canvas.width = video.videoWidth;\n      canvas.height = video.videoHeight;\n      canvas.getContext('2d').drawImage(video, 0, 0);\n      stream.getVideoTracks()[0].stop();\n      div.remove();\n      return canvas.toDataURL('image/jpeg', quality);\n    }\n    ",
      "text/plain": [
       "<IPython.core.display.Javascript object>"
      ]
     },
     "metadata": {},
     "output_type": "display_data"
    },
    {
     "name": "stdout",
     "output_type": "stream",
     "text": [
      "Saved to photo.jpg\n"
     ]
    },
    {
     "data": {
      "image/jpeg": "[encoded data removed]",
      "text/plain": [
       "<IPython.core.display.Image object>"
      ]
     },
     "metadata": {},
     "output_type": "display_data"
    },
    {
     "name": "stdout",
     "output_type": "stream",
     "text": [
      "1/1 [==============================] - 0s 21ms/step\n",
      "predicted text = Test\n",
      "\n"
     ]
    }
   ],
   "source": [
    "from IPython.display import Image, display\n",
    "\n",
    "try:\n",
    "    filename = take_photo()\n",
    "    print('Saved to {}'.format(filename))\n",
    "    display(Image(filename))\n",
    "    test_img = pre_process_image(filename)\n",
    "    prediction = predict_output(test_img)\n",
    "    if prediction is not None:\n",
    "        print('Prediction: {}'.format(prediction))\n",
    "\n",
    "except Exception as err:\n",
    "    print(str(err))\n"
   ]
  },
  {
   "cell_type": "code",
   "execution_count": null,
   "metadata": {
    "id": "8Zzrso4-88TZ"
   },
   "outputs": [],
   "source": [
    "from IPython.display import display, Image, clear_output\n",
    "import cv2\n",
    "import pytesseract\n",
    "\n",
    "\n",
    "image_path = 'path/to/your/image.jpg'\n",
    "frame = cv2.imread(image_path)\n",
    "\n",
    "text_regions = pytesseract.image_to_boxes(frame)\n",
    "\n",
    "for region in text_regions.splitlines():\n",
    "    region = region.split()\n",
    "    x, y, w, h = int(region[1]), int(region[2]), int(region[3]), int(region[4])\n",
    "    cv2.rectangle(frame, (x, y), (w, h), (0, 255, 0), 2)\n",
    "\n",
    "    text_region_image = frame[y:h, x:w]\n",
    "    preprocessed_image = pre_process_image(text_region_image)\n",
    "\n",
    "    prediction = predict_text(preprocessed_image)\n",
    "\n",
    "    if prediction is not None:\n",
    "        print(prediction)\n",
    "\n",
    "_, img_encoded = cv2.imencode('.png', frame)\n",
    "display(Image(data=img_encoded.tobytes()))\n"
   ]
  }
 ],
 "metadata": {
  "accelerator": "GPU",
  "colab": {
   "gpuType": "T4",
   "provenance": []
  },
  "kernelspec": {
   "display_name": "Python 3",
   "name": "python3"
  },
  "language_info": {
   "name": "python"
  }
 },
 "nbformat": 4,
 "nbformat_minor": 0
}
